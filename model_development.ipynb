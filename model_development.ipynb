{
  "nbformat": 4,
  "nbformat_minor": 0,
  "metadata": {
    "colab": {
      "provenance": [],
      "authorship_tag": "ABX9TyMAqMrDbZFe/wePi3dpV+NR"
    },
    "kernelspec": {
      "name": "ir",
      "display_name": "R"
    },
    "language_info": {
      "name": "R"
    }
  },
  "cells": [
    {
      "cell_type": "markdown",
      "source": [
        "# **Desenvolvimento de Modelo com Tidyverse**\n",
        "\n",
        "Na análise de dados, muitas vezes usamos o desenvolvimento de modelos para nos ajudar a prever observações futuras a partir dos dados que temos. Um Modelo nos ajudará a entender a relação exata entre diferentes variáveis e como essas variáveis são usadas para prever o resultado."
      ],
      "metadata": {
        "id": "zKlj1YNgreE_"
      }
    },
    {
      "cell_type": "markdown",
      "source": [
        "## **Carregar bibliotecas e dados**\n",
        "\n",
        "A biblioteca Tidyverse é uma ferramenta útil que fornece várias ferramentas para visualização de dados, manipulação de dados e leitura de vários conjuntos de dados em um quadro de dados."
      ],
      "metadata": {
        "id": "QUDSfvKNr-RG"
      }
    },
    {
      "cell_type": "code",
      "execution_count": 1,
      "metadata": {
        "colab": {
          "base_uri": "https://localhost:8080/"
        },
        "id": "aaISK0inopjo",
        "outputId": "3656294d-6b9c-4945-c963-033e4de28e5b"
      },
      "outputs": [
        {
          "output_type": "stream",
          "name": "stderr",
          "text": [
            "── \u001b[1mAttaching core tidyverse packages\u001b[22m ──────────────────────── tidyverse 2.0.0 ──\n",
            "\u001b[32m✔\u001b[39m \u001b[34mdplyr    \u001b[39m 1.1.4     \u001b[32m✔\u001b[39m \u001b[34mreadr    \u001b[39m 2.1.5\n",
            "\u001b[32m✔\u001b[39m \u001b[34mforcats  \u001b[39m 1.0.0     \u001b[32m✔\u001b[39m \u001b[34mstringr  \u001b[39m 1.5.1\n",
            "\u001b[32m✔\u001b[39m \u001b[34mggplot2  \u001b[39m 3.4.4     \u001b[32m✔\u001b[39m \u001b[34mtibble   \u001b[39m 3.2.1\n",
            "\u001b[32m✔\u001b[39m \u001b[34mlubridate\u001b[39m 1.9.3     \u001b[32m✔\u001b[39m \u001b[34mtidyr    \u001b[39m 1.3.1\n",
            "\u001b[32m✔\u001b[39m \u001b[34mpurrr    \u001b[39m 1.0.2     \n",
            "── \u001b[1mConflicts\u001b[22m ────────────────────────────────────────── tidyverse_conflicts() ──\n",
            "\u001b[31m✖\u001b[39m \u001b[34mpurrr\u001b[39m::\u001b[32m%||%()\u001b[39m   masks \u001b[34mbase\u001b[39m::%||%()\n",
            "\u001b[31m✖\u001b[39m \u001b[34mdplyr\u001b[39m::\u001b[32mfilter()\u001b[39m masks \u001b[34mstats\u001b[39m::filter()\n",
            "\u001b[31m✖\u001b[39m \u001b[34mdplyr\u001b[39m::\u001b[32mlag()\u001b[39m    masks \u001b[34mstats\u001b[39m::lag()\n",
            "\u001b[36mℹ\u001b[39m Use the conflicted package (\u001b[3m\u001b[34m<http://conflicted.r-lib.org/>\u001b[39m\u001b[23m) to force all conflicts to become errors\n"
          ]
        }
      ],
      "source": [
        "# Carregar o Tidyverse\n",
        "library(tidyverse)"
      ]
    },
    {
      "cell_type": "code",
      "source": [
        "# url onde os dados estão localizados\n",
        "url <- \"https://dax-cdn.cdn.appdomain.cloud/dax-airline/1.0.1/lax_to_jfk.tar.gz\"\n",
        "\n",
        "# baixe o arquivo\n",
        "download.file(url, destfile = \"lax_to_jfk.tar.gz\")\n",
        "\n",
        "# se você executar isso em sua máquina local, poderá remover tar = \"internal\"\n",
        "untar(\"lax_to_jfk.tar.gz\", tar = \"internal\")\n",
        "\n",
        "# somente read_csv\n",
        "sub_airline <- read_csv(\"lax_to_jfk/lax_to_jfk.csv\",\n",
        "                     col_types = cols('DivDistance' = col_number(),\n",
        "                                      'DivArrDelay' = col_number()))"
      ],
      "metadata": {
        "colab": {
          "base_uri": "https://localhost:8080/"
        },
        "id": "FF5y3fKWtHgV",
        "outputId": "5fe682db-0bf3-49ec-803b-675e5fbe8036"
      },
      "execution_count": 2,
      "outputs": [
        {
          "output_type": "stream",
          "name": "stderr",
          "text": [
            "Warning message in untar2(tarfile, files, list, exdir, restore_times):\n",
            "“using pax extended headers”\n"
          ]
        }
      ]
    },
    {
      "cell_type": "markdown",
      "source": [
        "**Observação:** O projeto GitHub tem uma pasta chamada Files, nela contem esses dados já baixado"
      ],
      "metadata": {
        "id": "QB7m1yOQuIj7"
      }
    },
    {
      "cell_type": "markdown",
      "source": [
        "## **Regressão Linear Simples**\n",
        "\n",
        "A Regressão Linear Simples é um método para nos ajudar a entender a relação entre duas variáveis:\n",
        "\n",
        "*   $X$: A variável preditora/independente\n",
        "*   $Y$: A variável resposta/dependente (que queremos prever)\n",
        "\n",
        "O resultado da regressão linear é uma função linear que prediz a variável resposta (dependente) em função da variável preditora (independente).\n",
        "\n",
        "**Função do modelo linear:**\n",
        "$$\n",
        "\\hat{Y} = b_0 + b_1  X\n",
        "$$\n",
        "\n",
        "\n",
        "\n",
        "*   $b_0$: refere-se ao intercepto da reta de regressão, em outras palavras: o valor de Y quando X é 0\n",
        "*   $b_1$: refere-se à inclinação da reta de regressão, em outras palavras: o valor com o qual Y muda quando X aumenta em 1 unidade\n",
        "*   $\\hat{Y}$: (y-hat) é o valor previsto a partir do modelo linear"
      ],
      "metadata": {
        "id": "aA3wnGd5uZYs"
      }
    },
    {
      "cell_type": "markdown",
      "source": [
        "### **Ajustar os dados em um modelo de regressão linear**\n",
        "\n",
        "Primeiro, vamos apenas olhar para os dados da Alaska Airline (AA) e CarrierDelay."
      ],
      "metadata": {
        "id": "iXcrS0npvU4w"
      }
    },
    {
      "cell_type": "code",
      "source": [
        "# Defina o conjunto de dados apenas com AA como Reporting_Airline\n",
        "aa_delays <- sub_airline %>%\n",
        "  filter(CarrierDelay != \"NA\", Reporting_Airline == \"AA\")\n",
        "\n",
        "head(aa_delays)"
      ],
      "metadata": {
        "colab": {
          "base_uri": "https://localhost:8080/",
          "height": 306
        },
        "id": "tbDICiNwuXQJ",
        "outputId": "b401e195-7949-4737-b7b5-83ac8312de99"
      },
      "execution_count": 3,
      "outputs": [
        {
          "output_type": "display_data",
          "data": {
            "text/html": [
              "<table class=\"dataframe\">\n",
              "<caption>A tibble: 6 × 21</caption>\n",
              "<thead>\n",
              "\t<tr><th scope=col>Month</th><th scope=col>DayOfWeek</th><th scope=col>FlightDate</th><th scope=col>Reporting_Airline</th><th scope=col>Origin</th><th scope=col>Dest</th><th scope=col>CRSDepTime</th><th scope=col>CRSArrTime</th><th scope=col>DepTime</th><th scope=col>ArrTime</th><th scope=col>⋯</th><th scope=col>ArrDelayMinutes</th><th scope=col>CarrierDelay</th><th scope=col>WeatherDelay</th><th scope=col>NASDelay</th><th scope=col>SecurityDelay</th><th scope=col>LateAircraftDelay</th><th scope=col>DepDelay</th><th scope=col>DepDelayMinutes</th><th scope=col>DivDistance</th><th scope=col>DivArrDelay</th></tr>\n",
              "\t<tr><th scope=col>&lt;dbl&gt;</th><th scope=col>&lt;dbl&gt;</th><th scope=col>&lt;date&gt;</th><th scope=col>&lt;chr&gt;</th><th scope=col>&lt;chr&gt;</th><th scope=col>&lt;chr&gt;</th><th scope=col>&lt;chr&gt;</th><th scope=col>&lt;chr&gt;</th><th scope=col>&lt;chr&gt;</th><th scope=col>&lt;chr&gt;</th><th scope=col>⋯</th><th scope=col>&lt;dbl&gt;</th><th scope=col>&lt;dbl&gt;</th><th scope=col>&lt;dbl&gt;</th><th scope=col>&lt;dbl&gt;</th><th scope=col>&lt;dbl&gt;</th><th scope=col>&lt;dbl&gt;</th><th scope=col>&lt;dbl&gt;</th><th scope=col>&lt;dbl&gt;</th><th scope=col>&lt;dbl&gt;</th><th scope=col>&lt;dbl&gt;</th></tr>\n",
              "</thead>\n",
              "<tbody>\n",
              "\t<tr><td> 6</td><td>4</td><td>2006-06-01</td><td>AA</td><td>LAX</td><td>JFK</td><td>1515</td><td>2332</td><td>1507</td><td>2353</td><td>⋯</td><td>21</td><td>0</td><td>0</td><td>21</td><td>0</td><td> 0</td><td>-8</td><td> 0</td><td>NA</td><td>NA</td></tr>\n",
              "\t<tr><td> 6</td><td>5</td><td>2013-06-28</td><td>AA</td><td>LAX</td><td>JFK</td><td>1200</td><td>2045</td><td>1328</td><td>2220</td><td>⋯</td><td>95</td><td>5</td><td>0</td><td> 7</td><td>0</td><td>83</td><td>88</td><td>88</td><td>NA</td><td>NA</td></tr>\n",
              "\t<tr><td>10</td><td>3</td><td>2005-10-12</td><td>AA</td><td>LAX</td><td>JFK</td><td>0930</td><td>1755</td><td>0958</td><td>1823</td><td>⋯</td><td>28</td><td>0</td><td>0</td><td>28</td><td>0</td><td> 0</td><td>28</td><td>28</td><td>NA</td><td>NA</td></tr>\n",
              "\t<tr><td> 4</td><td>6</td><td>2011-04-23</td><td>AA</td><td>LAX</td><td>JFK</td><td>0925</td><td>1800</td><td>1040</td><td>1850</td><td>⋯</td><td>50</td><td>0</td><td>0</td><td>50</td><td>0</td><td> 0</td><td>75</td><td>75</td><td>NA</td><td>NA</td></tr>\n",
              "\t<tr><td> 8</td><td>7</td><td>2011-08-14</td><td>AA</td><td>LAX</td><td>JFK</td><td>1100</td><td>1945</td><td>1200</td><td>2042</td><td>⋯</td><td>57</td><td>0</td><td>0</td><td>57</td><td>0</td><td> 0</td><td>60</td><td>60</td><td>NA</td><td>NA</td></tr>\n",
              "\t<tr><td> 2</td><td>5</td><td>2004-02-06</td><td>AA</td><td>LAX</td><td>JFK</td><td>1500</td><td>2306</td><td>1607</td><td>2348</td><td>⋯</td><td>42</td><td>0</td><td>0</td><td> 0</td><td>0</td><td>42</td><td>67</td><td>67</td><td>NA</td><td>NA</td></tr>\n",
              "</tbody>\n",
              "</table>\n"
            ],
            "text/markdown": "\nA tibble: 6 × 21\n\n| Month &lt;dbl&gt; | DayOfWeek &lt;dbl&gt; | FlightDate &lt;date&gt; | Reporting_Airline &lt;chr&gt; | Origin &lt;chr&gt; | Dest &lt;chr&gt; | CRSDepTime &lt;chr&gt; | CRSArrTime &lt;chr&gt; | DepTime &lt;chr&gt; | ArrTime &lt;chr&gt; | ⋯ ⋯ | ArrDelayMinutes &lt;dbl&gt; | CarrierDelay &lt;dbl&gt; | WeatherDelay &lt;dbl&gt; | NASDelay &lt;dbl&gt; | SecurityDelay &lt;dbl&gt; | LateAircraftDelay &lt;dbl&gt; | DepDelay &lt;dbl&gt; | DepDelayMinutes &lt;dbl&gt; | DivDistance &lt;dbl&gt; | DivArrDelay &lt;dbl&gt; |\n|---|---|---|---|---|---|---|---|---|---|---|---|---|---|---|---|---|---|---|---|---|\n|  6 | 4 | 2006-06-01 | AA | LAX | JFK | 1515 | 2332 | 1507 | 2353 | ⋯ | 21 | 0 | 0 | 21 | 0 |  0 | -8 |  0 | NA | NA |\n|  6 | 5 | 2013-06-28 | AA | LAX | JFK | 1200 | 2045 | 1328 | 2220 | ⋯ | 95 | 5 | 0 |  7 | 0 | 83 | 88 | 88 | NA | NA |\n| 10 | 3 | 2005-10-12 | AA | LAX | JFK | 0930 | 1755 | 0958 | 1823 | ⋯ | 28 | 0 | 0 | 28 | 0 |  0 | 28 | 28 | NA | NA |\n|  4 | 6 | 2011-04-23 | AA | LAX | JFK | 0925 | 1800 | 1040 | 1850 | ⋯ | 50 | 0 | 0 | 50 | 0 |  0 | 75 | 75 | NA | NA |\n|  8 | 7 | 2011-08-14 | AA | LAX | JFK | 1100 | 1945 | 1200 | 2042 | ⋯ | 57 | 0 | 0 | 57 | 0 |  0 | 60 | 60 | NA | NA |\n|  2 | 5 | 2004-02-06 | AA | LAX | JFK | 1500 | 2306 | 1607 | 2348 | ⋯ | 42 | 0 | 0 |  0 | 0 | 42 | 67 | 67 | NA | NA |\n\n",
            "text/latex": "A tibble: 6 × 21\n\\begin{tabular}{lllllllllllllllllllll}\n Month & DayOfWeek & FlightDate & Reporting\\_Airline & Origin & Dest & CRSDepTime & CRSArrTime & DepTime & ArrTime & ⋯ & ArrDelayMinutes & CarrierDelay & WeatherDelay & NASDelay & SecurityDelay & LateAircraftDelay & DepDelay & DepDelayMinutes & DivDistance & DivArrDelay\\\\\n <dbl> & <dbl> & <date> & <chr> & <chr> & <chr> & <chr> & <chr> & <chr> & <chr> & ⋯ & <dbl> & <dbl> & <dbl> & <dbl> & <dbl> & <dbl> & <dbl> & <dbl> & <dbl> & <dbl>\\\\\n\\hline\n\t  6 & 4 & 2006-06-01 & AA & LAX & JFK & 1515 & 2332 & 1507 & 2353 & ⋯ & 21 & 0 & 0 & 21 & 0 &  0 & -8 &  0 & NA & NA\\\\\n\t  6 & 5 & 2013-06-28 & AA & LAX & JFK & 1200 & 2045 & 1328 & 2220 & ⋯ & 95 & 5 & 0 &  7 & 0 & 83 & 88 & 88 & NA & NA\\\\\n\t 10 & 3 & 2005-10-12 & AA & LAX & JFK & 0930 & 1755 & 0958 & 1823 & ⋯ & 28 & 0 & 0 & 28 & 0 &  0 & 28 & 28 & NA & NA\\\\\n\t  4 & 6 & 2011-04-23 & AA & LAX & JFK & 0925 & 1800 & 1040 & 1850 & ⋯ & 50 & 0 & 0 & 50 & 0 &  0 & 75 & 75 & NA & NA\\\\\n\t  8 & 7 & 2011-08-14 & AA & LAX & JFK & 1100 & 1945 & 1200 & 2042 & ⋯ & 57 & 0 & 0 & 57 & 0 &  0 & 60 & 60 & NA & NA\\\\\n\t  2 & 5 & 2004-02-06 & AA & LAX & JFK & 1500 & 2306 & 1607 & 2348 & ⋯ & 42 & 0 & 0 &  0 & 0 & 42 & 67 & 67 & NA & NA\\\\\n\\end{tabular}\n",
            "text/plain": [
              "  Month DayOfWeek FlightDate Reporting_Airline Origin Dest CRSDepTime\n",
              "1  6    4         2006-06-01 AA                LAX    JFK  1515      \n",
              "2  6    5         2013-06-28 AA                LAX    JFK  1200      \n",
              "3 10    3         2005-10-12 AA                LAX    JFK  0930      \n",
              "4  4    6         2011-04-23 AA                LAX    JFK  0925      \n",
              "5  8    7         2011-08-14 AA                LAX    JFK  1100      \n",
              "6  2    5         2004-02-06 AA                LAX    JFK  1500      \n",
              "  CRSArrTime DepTime ArrTime ⋯ ArrDelayMinutes CarrierDelay WeatherDelay\n",
              "1 2332       1507    2353    ⋯ 21              0            0           \n",
              "2 2045       1328    2220    ⋯ 95              5            0           \n",
              "3 1755       0958    1823    ⋯ 28              0            0           \n",
              "4 1800       1040    1850    ⋯ 50              0            0           \n",
              "5 1945       1200    2042    ⋯ 57              0            0           \n",
              "6 2306       1607    2348    ⋯ 42              0            0           \n",
              "  NASDelay SecurityDelay LateAircraftDelay DepDelay DepDelayMinutes DivDistance\n",
              "1 21       0              0                -8        0              NA         \n",
              "2  7       0             83                88       88              NA         \n",
              "3 28       0              0                28       28              NA         \n",
              "4 50       0              0                75       75              NA         \n",
              "5 57       0              0                60       60              NA         \n",
              "6  0       0             42                67       67              NA         \n",
              "  DivArrDelay\n",
              "1 NA         \n",
              "2 NA         \n",
              "3 NA         \n",
              "4 NA         \n",
              "5 NA         \n",
              "6 NA         "
            ]
          },
          "metadata": {}
        }
      ]
    },
    {
      "cell_type": "markdown",
      "source": [
        "Para este exemplo, queremos ver como o atraso de partida (DepDelayMinutes) pode nos ajudar a prever o atraso de chegada (ArrDelayMinutes). Usando regressão linear simples, criaremos uma função linear com \"DepDelayMinutes\" como variável preditora e \"ArrDelayMinutes\" como variável resposta."
      ],
      "metadata": {
        "id": "t1Xoy6vdwDoT"
      }
    },
    {
      "cell_type": "code",
      "source": [
        "linear_model <- lm(ArrDelayMinutes ~ DepDelayMinutes, data = aa_delays)"
      ],
      "metadata": {
        "id": "zkvnFRYowEJo"
      },
      "execution_count": 4,
      "outputs": []
    },
    {
      "cell_type": "code",
      "source": [
        "# Resuma o modelo de regressão usando\n",
        "summary(linear_model)"
      ],
      "metadata": {
        "colab": {
          "base_uri": "https://localhost:8080/",
          "height": 329
        },
        "id": "i1_M1NVqwhz2",
        "outputId": "7e963503-a9f9-43e7-fd6e-46a8d980bd7b"
      },
      "execution_count": 5,
      "outputs": [
        {
          "output_type": "display_data",
          "data": {
            "text/plain": [
              "\n",
              "Call:\n",
              "lm(formula = ArrDelayMinutes ~ DepDelayMinutes, data = aa_delays)\n",
              "\n",
              "Residuals:\n",
              "    Min      1Q  Median      3Q     Max \n",
              "-37.234 -12.716  -1.354   7.747  93.646 \n",
              "\n",
              "Coefficients:\n",
              "                Estimate Std. Error t value Pr(>|t|)    \n",
              "(Intercept)      17.3544     2.5084   6.919  2.9e-10 ***\n",
              "DepDelayMinutes   0.7523     0.0399  18.855  < 2e-16 ***\n",
              "---\n",
              "Signif. codes:  0 ‘***’ 0.001 ‘**’ 0.01 ‘*’ 0.05 ‘.’ 0.1 ‘ ’ 1\n",
              "\n",
              "Residual standard error: 20.03 on 113 degrees of freedom\n",
              "Multiple R-squared:  0.7588,\tAdjusted R-squared:  0.7567 \n",
              "F-statistic: 355.5 on 1 and 113 DF,  p-value: < 2.2e-16\n"
            ]
          },
          "metadata": {}
        }
      ]
    },
    {
      "cell_type": "markdown",
      "source": [
        "Podemos produzir uma previsão de três novos pontos de dados."
      ],
      "metadata": {
        "id": "2NwuwC7lwtlg"
      }
    },
    {
      "cell_type": "code",
      "source": [
        "# Dados de entrada que usamos para prever\n",
        "new_depdelay <- data.frame(\n",
        "  DepDelayMinutes = c(12, 19, 24))\n",
        "\n",
        "# Preveja os pontos de dados\n",
        "pred <- predict(linear_model, newdata = new_depdelay, interval = \"confidence\")\n",
        "pred"
      ],
      "metadata": {
        "colab": {
          "base_uri": "https://localhost:8080/",
          "height": 161
        },
        "id": "KSO5s5KNwuBa",
        "outputId": "4901fd6d-c051-46a0-cb4e-3a6471458bb1"
      },
      "execution_count": 6,
      "outputs": [
        {
          "output_type": "display_data",
          "data": {
            "text/html": [
              "<table class=\"dataframe\">\n",
              "<caption>A matrix: 3 × 3 of type dbl</caption>\n",
              "<thead>\n",
              "\t<tr><th></th><th scope=col>fit</th><th scope=col>lwr</th><th scope=col>upr</th></tr>\n",
              "</thead>\n",
              "<tbody>\n",
              "\t<tr><th scope=row>1</th><td>26.38175</td><td>21.98838</td><td>30.77512</td></tr>\n",
              "\t<tr><th scope=row>2</th><td>31.64769</td><td>27.52630</td><td>35.76908</td></tr>\n",
              "\t<tr><th scope=row>3</th><td>35.40907</td><td>31.44593</td><td>39.37222</td></tr>\n",
              "</tbody>\n",
              "</table>\n"
            ],
            "text/markdown": "\nA matrix: 3 × 3 of type dbl\n\n| <!--/--> | fit | lwr | upr |\n|---|---|---|---|\n| 1 | 26.38175 | 21.98838 | 30.77512 |\n| 2 | 31.64769 | 27.52630 | 35.76908 |\n| 3 | 35.40907 | 31.44593 | 39.37222 |\n\n",
            "text/latex": "A matrix: 3 × 3 of type dbl\n\\begin{tabular}{r|lll}\n  & fit & lwr & upr\\\\\n\\hline\n\t1 & 26.38175 & 21.98838 & 30.77512\\\\\n\t2 & 31.64769 & 27.52630 & 35.76908\\\\\n\t3 & 35.40907 & 31.44593 & 39.37222\\\\\n\\end{tabular}\n",
            "text/plain": [
              "  fit      lwr      upr     \n",
              "1 26.38175 21.98838 30.77512\n",
              "2 31.64769 27.52630 35.76908\n",
              "3 35.40907 31.44593 39.37222"
            ]
          },
          "metadata": {}
        }
      ]
    },
    {
      "cell_type": "markdown",
      "source": [
        "Quando imprimimos o objeto pred, podemos ver que existem 3 colunas: fit, lwr e upr. A coluna \"ajuste\" é a previsão dos resultados das entradas. E \"lwr\" e \"upr\" são o limite inferior e o limite superior dos intervalos de confiança de 95% dos resultados da predição. O intervalo de confiança reflete a incerteza em torno das previsões médias."
      ],
      "metadata": {
        "id": "bFyW4OhgyMk1"
      }
    },
    {
      "cell_type": "markdown",
      "source": [
        "### **Qual o valor da interceptação e a inclinação?**\n",
        "\n",
        "Usando o modelo ajustado, linear_model, você pode pegar os coeficientes de atributo usando $."
      ],
      "metadata": {
        "id": "_ggZgDzuyVC0"
      }
    },
    {
      "cell_type": "code",
      "source": [
        "linear_model$coefficients"
      ],
      "metadata": {
        "colab": {
          "base_uri": "https://localhost:8080/",
          "height": 34
        },
        "id": "ooDR-ZXuyRR3",
        "outputId": "055c45ab-d6cf-4af8-a204-09bf28b0fb22"
      },
      "execution_count": 7,
      "outputs": [
        {
          "output_type": "display_data",
          "data": {
            "text/html": [
              "<style>\n",
              ".dl-inline {width: auto; margin:0; padding: 0}\n",
              ".dl-inline>dt, .dl-inline>dd {float: none; width: auto; display: inline-block}\n",
              ".dl-inline>dt::after {content: \":\\0020\"; padding-right: .5ex}\n",
              ".dl-inline>dt:not(:first-of-type) {padding-left: .5ex}\n",
              "</style><dl class=dl-inline><dt>(Intercept)</dt><dd>17.3544286298325</dd><dt>DepDelayMinutes</dt><dd>0.752276923051433</dd></dl>\n"
            ],
            "text/markdown": "(Intercept)\n:   17.3544286298325DepDelayMinutes\n:   0.752276923051433\n\n",
            "text/latex": "\\begin{description*}\n\\item[(Intercept)] 17.3544286298325\n\\item[DepDelayMinutes] 0.752276923051433\n\\end{description*}\n",
            "text/plain": [
              "    (Intercept) DepDelayMinutes \n",
              "     17.3544286       0.7522769 "
            ]
          },
          "metadata": {}
        }
      ]
    },
    {
      "cell_type": "markdown",
      "source": [
        "### **Qual é o modelo linear final estimado que temos?**\n",
        "\n",
        "Criando uma função linear com \"CarrierDelay\" como a variável preditora e \"ArrDelayMinutes\" como a variável de resposta. Em seguida, encontrando os coeficientes (intercepto e inclinação) do modelo."
      ],
      "metadata": {
        "id": "af539PeFzPyf"
      }
    },
    {
      "cell_type": "code",
      "source": [
        "linear_model2 <- lm(ArrDelayMinutes ~ CarrierDelay, data = aa_delays)\n",
        "\n",
        "linear_model2$coefficients"
      ],
      "metadata": {
        "colab": {
          "base_uri": "https://localhost:8080/",
          "height": 34
        },
        "id": "FvKGqe-vzJd4",
        "outputId": "c8e39202-ef28-4664-89f3-a39c09a5408a"
      },
      "execution_count": 8,
      "outputs": [
        {
          "output_type": "display_data",
          "data": {
            "text/html": [
              "<style>\n",
              ".dl-inline {width: auto; margin:0; padding: 0}\n",
              ".dl-inline>dt, .dl-inline>dd {float: none; width: auto; display: inline-block}\n",
              ".dl-inline>dt::after {content: \":\\0020\"; padding-right: .5ex}\n",
              ".dl-inline>dt:not(:first-of-type) {padding-left: .5ex}\n",
              "</style><dl class=dl-inline><dt>(Intercept)</dt><dd>35.1176107810499</dd><dt>CarrierDelay</dt><dd>0.703176077989934</dd></dl>\n"
            ],
            "text/markdown": "(Intercept)\n:   35.1176107810499CarrierDelay\n:   0.703176077989934\n\n",
            "text/latex": "\\begin{description*}\n\\item[(Intercept)] 35.1176107810499\n\\item[CarrierDelay] 0.703176077989934\n\\end{description*}\n",
            "text/plain": [
              " (Intercept) CarrierDelay \n",
              "  35.1176108    0.7031761 "
            ]
          },
          "metadata": {}
        }
      ]
    },
    {
      "cell_type": "markdown",
      "source": [
        "**A equação da reta prevista. Usando x e yhat ou 'CarrierDelay' ou 'ArrDelayMinutes':**\n",
        "\n",
        "Yhat = 35.11 + 0.7032 * X\n",
        "\n",
        "ArrDelayMinutes = 35.11 + 0.7032 * CarrierDelay  "
      ],
      "metadata": {
        "id": "Sgn98y0q0J9e"
      }
    },
    {
      "cell_type": "markdown",
      "source": [
        "## **Regressão Linear Múltipla**\n",
        "\n",
        "E se quisermos prever minutos de atraso de chegada usando mais de uma variável?\n",
        "\n",
        "Se quisermos usar mais variáveis em nosso modelo para prever minutos de atraso de chegada, podemos usar a Regressão Linear Múltipla. A Regressão Linear Múltipla é muito semelhante à Regressão Linear Simples, mas esse método é usado para explicar a relação entre uma variável de resposta contínua (dependente) e duas ou mais variáveis preditoras (independentes).\n",
        "\n",
        "\n",
        "\n",
        "*   $Y$: Variável de resposta\n",
        "*   $X_1$: Variável preditora 1\n",
        "*   $X_2$: Variável preditora 2\n",
        "\n",
        "$$\n",
        "\\hat{Y} = b_0 + b_1 X_1 + b_2 X_2\n",
        "$$\n",
        "\n",
        "onde:\n",
        "\n",
        "*  $b_0$: interceptar\n",
        "*  $b_1$: coeficiente da variável 1\n",
        "*  $b_2$: coeficiente da variável 2"
      ],
      "metadata": {
        "id": "Vl_4pMXY0sb5"
      }
    },
    {
      "cell_type": "markdown",
      "source": [
        "Pelo projeto anterior ([link](https://github.com/Code-Lipe/exploratory_data_analysis_tidyverse)), sabemos que outros bons preditores de ArrDelayMinutes podem ser:\n",
        "\n",
        "*   DepDelayMinutes\n",
        "*   AtrasoAeronaveAtraso\n",
        "\n",
        "Vamos desenvolver um modelo usando essas variáveis como variáveis preditoras, ajustando os dados."
      ],
      "metadata": {
        "id": "fCor9sAY22T3"
      }
    },
    {
      "cell_type": "code",
      "source": [
        "mlr <- lm(ArrDelayMinutes ~ DepDelayMinutes + LateAircraftDelay, data = aa_delays)\n",
        "\n",
        "summary(mlr)"
      ],
      "metadata": {
        "colab": {
          "base_uri": "https://localhost:8080/",
          "height": 364
        },
        "id": "rPf5mNil0HuY",
        "outputId": "7b38d04f-ac6d-4876-860f-1ab0477c0749"
      },
      "execution_count": 9,
      "outputs": [
        {
          "output_type": "display_data",
          "data": {
            "text/plain": [
              "\n",
              "Call:\n",
              "lm(formula = ArrDelayMinutes ~ DepDelayMinutes + LateAircraftDelay, \n",
              "    data = aa_delays)\n",
              "\n",
              "Residuals:\n",
              "    Min      1Q  Median      3Q     Max \n",
              "-37.188 -12.545  -1.317   7.791  93.683 \n",
              "\n",
              "Coefficients:\n",
              "                  Estimate Std. Error t value Pr(>|t|)    \n",
              "(Intercept)       17.31707    2.53786   6.823 4.78e-10 ***\n",
              "DepDelayMinutes    0.75556    0.04822  15.668  < 2e-16 ***\n",
              "LateAircraftDelay -0.01028    0.08407  -0.122    0.903    \n",
              "---\n",
              "Signif. codes:  0 ‘***’ 0.001 ‘**’ 0.01 ‘*’ 0.05 ‘.’ 0.1 ‘ ’ 1\n",
              "\n",
              "Residual standard error: 20.11 on 112 degrees of freedom\n",
              "Multiple R-squared:  0.7588,\tAdjusted R-squared:  0.7545 \n",
              "F-statistic: 176.2 on 2 and 112 DF,  p-value: < 2.2e-16\n"
            ]
          },
          "metadata": {}
        }
      ]
    },
    {
      "cell_type": "markdown",
      "source": [
        "Qual o valor da interceptação ($b_0$) e os coeficientes ($b_1$, $b_2$)?"
      ],
      "metadata": {
        "id": "nzpEQ5iC3mzi"
      }
    },
    {
      "cell_type": "code",
      "source": [
        "mlr$coefficients"
      ],
      "metadata": {
        "colab": {
          "base_uri": "https://localhost:8080/",
          "height": 52
        },
        "id": "KgJlSX0Z3eue",
        "outputId": "37929c26-bcc0-41a3-fad4-ff4f38557c7d"
      },
      "execution_count": 10,
      "outputs": [
        {
          "output_type": "display_data",
          "data": {
            "text/html": [
              "<style>\n",
              ".dl-inline {width: auto; margin:0; padding: 0}\n",
              ".dl-inline>dt, .dl-inline>dd {float: none; width: auto; display: inline-block}\n",
              ".dl-inline>dt::after {content: \":\\0020\"; padding-right: .5ex}\n",
              ".dl-inline>dt:not(:first-of-type) {padding-left: .5ex}\n",
              "</style><dl class=dl-inline><dt>(Intercept)</dt><dd>17.3170664444204</dd><dt>DepDelayMinutes</dt><dd>0.755555427832382</dd><dt>LateAircraftDelay</dt><dd>-0.0102751258959528</dd></dl>\n"
            ],
            "text/markdown": "(Intercept)\n:   17.3170664444204DepDelayMinutes\n:   0.755555427832382LateAircraftDelay\n:   -0.0102751258959528\n\n",
            "text/latex": "\\begin{description*}\n\\item[(Intercept)] 17.3170664444204\n\\item[DepDelayMinutes] 0.755555427832382\n\\item[LateAircraftDelay] -0.0102751258959528\n\\end{description*}\n",
            "text/plain": [
              "      (Intercept)   DepDelayMinutes LateAircraftDelay \n",
              "      17.31706644        0.75555543       -0.01027513 "
            ]
          },
          "metadata": {}
        }
      ]
    },
    {
      "cell_type": "code",
      "source": [],
      "metadata": {
        "id": "9FTcjAuI3_2N"
      },
      "execution_count": null,
      "outputs": []
    }
  ]
}